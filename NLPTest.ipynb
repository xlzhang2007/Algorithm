{
 "cells": [
  {
   "cell_type": "code",
   "execution_count": 43,
   "metadata": {},
   "outputs": [
    {
     "name": "stdout",
     "output_type": "stream",
     "text": [
      "(20505, 4)\n"
     ]
    }
   ],
   "source": [
    "import pandas as pd\n",
    "import re\n",
    "import numpy as np\n",
    "import random\n",
    "from pdb import set_trace as bp\n",
    "\n",
    "# reading csv file\n",
    "df_orig = pd.read_csv(r\"/Users/wasapple/Downloads/UnitedSolutions-DataScientistPosition/Problem 1-dataset.csv\")\n",
    "                     \n",
    "df = np.array(df_orig)\n",
    "print(df.shape)\n"
   ]
  },
  {
   "cell_type": "code",
   "execution_count": 44,
   "metadata": {},
   "outputs": [],
   "source": [
    "cleandf = []\n",
    "labels = []\n",
    "\n",
    "for i in range(len(df)):\n",
    "\n",
    "    if (df[i, 1] != \"label\"):\n",
    "        line = df[i, :].tolist()\n",
    "        word_list = re.split(':|,|#|/| ', line[0])\n",
    "        for word in word_list:\n",
    "          if word != '' and word != '-':\n",
    "            line.append(word.lower())\n",
    "        \n",
    "        if line[2] is None:\n",
    "            line[2] = '-1'\n",
    "        \n",
    "        if line[3] is None:\n",
    "            line[3] = '-1'\n",
    "            \n",
    "        cleandf.append(line)\n",
    "        #print(line)\n",
    "        \n",
    "        if df[i, 1] not in labels:\n",
    "            labels.append(df[i, 1])\n",
    "\n",
    "    \n",
    "labels.sort()"
   ]
  },
  {
   "cell_type": "code",
   "execution_count": 45,
   "metadata": {},
   "outputs": [],
   "source": [
    "class_items = []\n",
    "for j, label in enumerate(labels):\n",
    "    templist = []\n",
    "    for item in cleandf:\n",
    "        if (item[1] == label):\n",
    "            templist.append(item)\n",
    "    class_items.append(templist)\n",
    "            \n",
    "\n",
    "sortdf = []\n",
    "for rd in class_items:\n",
    "    rd.sort()\n",
    "    for item in rd:\n",
    "        sortdf.append(item)\n",
    "\n",
    "#print(sortdf[10:30])\n",
    "\n"
   ]
  },
  {
   "cell_type": "code",
   "execution_count": 46,
   "metadata": {},
   "outputs": [
    {
     "name": "stdout",
     "output_type": "stream",
     "text": [
      "20500\n"
     ]
    }
   ],
   "source": [
    "cleandf = []\n",
    "for i, rd in enumerate(sortdf):\n",
    "    cleandf.append(rd)\n",
    "    #print(cleandf[i])\n",
    "    rd[0] = rd[0].lower()\n",
    "    wordlist = rd[4:]\n",
    "    lastid = len(wordlist)\n",
    "    lastword = wordlist[lastid - 1]\n",
    "    if(rd[0].find('catalog') == -1):\n",
    "        #print(rd[0])\n",
    "        if (lastword.isdigit()) or ((lastword.replace('$','')).isdigit()):\n",
    "            \n",
    "            if (rd[0].rfind('*') != -1):\n",
    "              \n",
    "                for ind, wd in enumerate(wordlist):\n",
    "                    if (wd == '*'):\n",
    "                        cleandf[i][2] = wordlist[ind-1].lower()\n",
    "                        cleandf[i][2] = (cleandf[i][2].replace('quantity','')).strip()\n",
    "                \n",
    "                        cleandf[i][3] = (wordlist[ind + 1].replace('$','')).strip()\n",
    "                        \n",
    "        \n",
    "            else:\n",
    "                if lastword.isdigit():\n",
    "                    cleandf[i][2] = wordlist[lastid - 1];\n",
    "                   \n",
    "                \n",
    "                if (lastword.find('$') != -1):\n",
    "                    cleandf[i][3] = (lastword.replace('$','')).strip()  \n",
    "print(len(cleandf))\n",
    "\n",
    "\n",
    "      \n",
    " "
   ]
  },
  {
   "cell_type": "code",
   "execution_count": 47,
   "metadata": {},
   "outputs": [
    {
     "name": "stdout",
     "output_type": "stream",
     "text": [
      "14349\n",
      "6151\n",
      "[0.1975609756097561, 0.17658536585365853, 0.21365853658536585, 0.2097560975609756, 0.20243902439024392]\n"
     ]
    }
   ],
   "source": [
    "x = list(range(len(cleandf)))\n",
    "random.shuffle(x)\n",
    "trainlist = []\n",
    "testlist = []\n",
    "br = int(len(x) * 0.7)\n",
    "for i in range(br):\n",
    "    trainlist.append(cleandf[x[i]])\n",
    "\n",
    "for i in range(len(cleandf)-br):\n",
    "    testlist.append(cleandf[x[br+i]])\n",
    "\n",
    "print(len(trainlist))\n",
    "print(len(testlist))\n",
    "\n",
    "# build dic from train\n",
    "dict = []\n",
    "wfreq = []\n",
    "for i in range(len(cleandf)):\n",
    "    word_list = cleandf[i][4:]\n",
    "    #print(word_list)\n",
    "    for wid in word_list:\n",
    "        if (wid in dict):\n",
    "            wfreq[dict.index(wid)] += 1\n",
    "        else:\n",
    "            dict.append(wid);\n",
    "            wfreq.append(1)\n",
    "\n",
    "class_prob = []\n",
    "\n",
    "\n",
    "for j, label in enumerate(labels):\n",
    "    templist = []\n",
    "    for item in cleandf:\n",
    "        if (item[1] == label):\n",
    "            templist.append(item)\n",
    "    class_items.append(templist)\n",
    "            \n",
    "#print(class_items[0][0][1:3])\n",
    "\n",
    "class_word_prob = []\n",
    "for i, label in enumerate(labels):\n",
    "    temp_count = np.zeros(len(dict))\n",
    "    for rd in class_items[i]:\n",
    "        word_list = rd[4:]\n",
    "        for wid in word_list:\n",
    "            if wid in dict:\n",
    "                temp_count[dict.index(wid)] += 1\n",
    "                \n",
    "    class_word_prob.append(temp_count)\n",
    "    class_prob.append(len(class_items[i]))\n",
    "   \n",
    "    class_word_prob[i][:] = np.divide(class_word_prob[i][:], wfreq)\n",
    "    class_prob[i] /= len(cleandf)\n",
    "    \n",
    "print(class_prob)"
   ]
  },
  {
   "cell_type": "code",
   "execution_count": 48,
   "metadata": {},
   "outputs": [
    {
     "name": "stdout",
     "output_type": "stream",
     "text": [
      "0.9899203381563974\n",
      "[[1211.    0.    0.    0.    0.]\n",
      " [   0. 1006.   49.    4.    9.]\n",
      " [   0.    0. 1346.    0.    0.]\n",
      " [   0.    0.    0. 1268.    0.]\n",
      " [   0.    0.    0.    0. 1258.]]\n"
     ]
    }
   ],
   "source": [
    "confusion_table = np.zeros([len(labels), len(labels)]);\n",
    "\n",
    "\n",
    "predict_accuracy = 0\n",
    "\n",
    "for rd in testlist:\n",
    "    \n",
    "    max = -1;\n",
    "    testsample_prob = 0\n",
    "    predict_label = -1\n",
    "    \n",
    "    word_list = rd[4:]\n",
    "    for j, label in enumerate(labels):\n",
    "        \n",
    "        for wid in word_list:\n",
    "            ind = dict.index(wid)\n",
    "            testsample_prob += class_word_prob[j][ind]     \n",
    "\n",
    "        testsample_prob = testsample_prob * class_prob[j]\n",
    "          \n",
    "        if (testsample_prob > max):\n",
    "            max = testsample_prob\n",
    "            predict_label = label\n",
    "        \n",
    "            \n",
    "    if (predict_label == rd[1]):\n",
    "        predict_accuracy += 1\n",
    "        confusion_table[labels.index(predict_label),labels.index(predict_label)] += 1\n",
    "    else:\n",
    "        confusion_table[labels.index(rd[1]), labels.index(predict_label)] += 1\n",
    "    \n",
    "predict_accuracy /= len(testlist)\n",
    "\n",
    "print(predict_accuracy)\n",
    "print(confusion_table)"
   ]
  },
  {
   "cell_type": "code",
   "execution_count": null,
   "metadata": {},
   "outputs": [],
   "source": []
  }
 ],
 "metadata": {
  "kernelspec": {
   "display_name": "Python 3",
   "language": "python",
   "name": "python3"
  },
  "language_info": {
   "codemirror_mode": {
    "name": "ipython",
    "version": 3
   },
   "file_extension": ".py",
   "mimetype": "text/x-python",
   "name": "python",
   "nbconvert_exporter": "python",
   "pygments_lexer": "ipython3",
   "version": "3.7.6"
  }
 },
 "nbformat": 4,
 "nbformat_minor": 4
}
