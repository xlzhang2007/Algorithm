{
 "cells": [
  {
   "cell_type": "code",
   "execution_count": 49,
   "metadata": {},
   "outputs": [
    {
     "name": "stdout",
     "output_type": "stream",
     "text": [
      "(20505, 4)\n"
     ]
    }
   ],
   "source": [
    "import pandas as pd\n",
    "import re\n",
    "import numpy as np\n",
    "import random\n",
    "from pdb import set_trace as bp\n",
    "\n",
    "# reading csv file\n",
    "df_orig = pd.read_csv(r\"I:\\Problem 1-dataset.csv\")\n",
    "df = np.array(df_orig)\n",
    "print(df.shape)"
   ]
  },
  {
   "cell_type": "code",
   "execution_count": 50,
   "metadata": {},
   "outputs": [],
   "source": [
    "cleandf = []\n",
    "labels = []\n",
    "\n",
    "for i in range(len(df)):\n",
    "\n",
    "    if (df[i, 1] != \"label\"):\n",
    "        line = df[i, :].tolist()\n",
    "        word_list = re.split(':|,|#|/| ', line[0])\n",
    "        for word in word_list:\n",
    "          if word != '' and word != '-':\n",
    "            line.append(word)\n",
    "        \n",
    "        if line[2] is None:\n",
    "            line[2] = '-1'\n",
    "        \n",
    "        if line[3] is None:\n",
    "            line[3] = '-1'\n",
    "            \n",
    "        cleandf.append(line)\n",
    "        #print(line)\n",
    "        #print(cleandf)\n",
    "        \n",
    "        if df[i, 1] not in labels:\n",
    "            labels.append(df[i, 1])\n",
    "\n",
    "    \n",
    "labels.sort()\n",
    "\n",
    "\n",
    "\n",
    "\n",
    "\n",
    "\n",
    "   \n",
    "\n",
    "\n",
    "\n",
    "\n"
   ]
  },
  {
   "cell_type": "code",
   "execution_count": 51,
   "metadata": {},
   "outputs": [
    {
     "name": "stdout",
     "output_type": "stream",
     "text": [
      "[0.1975609756097561, 0.17658536585365853, 0.21365853658536585, 0.2097560975609756, 0.20243902439024392]\n"
     ]
    }
   ],
   "source": [
    "x = list(range(len(cleandf)))\n",
    "random.shuffle(x)\n",
    "\n",
    "trainlist = cleandf[0:int(len(x) * 0.7) - 1]\n",
    "testlist = cleandf[(len(cleandf) - len(trainlist) - 1):]\n",
    "\n",
    "\n",
    "# build dic from train\n",
    "dict = []\n",
    "wfreq = []\n",
    "for i in range(len(cleandf)):\n",
    "    word_list = cleandf[i][4:]\n",
    "    #print(word_list)\n",
    "    for wid in word_list:\n",
    "        if (wid in dict):\n",
    "            wfreq[dict.index(wid)] += 1\n",
    "        else:\n",
    "            dict.append(wid);\n",
    "            wfreq.append(1)\n",
    "\n",
    "class_items = []\n",
    "class_prob = []\n",
    "\n",
    "\n",
    "for j, label in enumerate(labels):\n",
    "    templist = []\n",
    "    for item in cleandf:\n",
    "        if (item[1] == label):\n",
    "            templist.append(item)\n",
    "    class_items.append(templist)\n",
    "            \n",
    "#print(class_items[0][0][1:3])\n",
    "\n",
    "class_word_prob = []\n",
    "for i, label in enumerate(labels):\n",
    "    temp_count = np.zeros(len(dict))\n",
    "    for rd in class_items[i]:\n",
    "        word_list = rd[4:]\n",
    "        for wid in word_list:\n",
    "            if wid in dict:\n",
    "                temp_count[dict.index(wid)] += 1\n",
    "                \n",
    "    class_word_prob.append(temp_count)\n",
    "    class_prob.append(len(class_items[i]))\n",
    "   \n",
    "    class_word_prob[i][:] = np.divide(class_word_prob[i][:], wfreq)\n",
    "    class_prob[i] /= len(cleandf)\n",
    "    \n",
    "print(class_prob)\n",
    "\n",
    "\n"
   ]
  },
  {
   "cell_type": "code",
   "execution_count": 52,
   "metadata": {},
   "outputs": [
    {
     "name": "stdout",
     "output_type": "stream",
     "text": [
      "0.9958185239389504\n",
      "[[2811.    0.    0.    0.    0.]\n",
      " [   0. 2506.   15.   15.   15.]\n",
      " [   0.    0. 3039.    0.    0.]\n",
      " [  15.    0.    0. 3005.    0.]\n",
      " [   0.    0.    0.    0. 2928.]]\n"
     ]
    }
   ],
   "source": [
    "confusion_table = np.zeros([len(labels), len(labels)]);\n",
    "\n",
    "predict_label = 0\n",
    "predict_accuracy = 0\n",
    "for i in range(len(testlist)):\n",
    "    word_list = testlist[i][4:]\n",
    "    predict_label = 0;\n",
    "    max = 0;\n",
    "    for j, label in enumerate(labels):\n",
    "        testsample_prob = 0\n",
    "\n",
    "        for wid in word_list:\n",
    "            ind = dict.index(wid)\n",
    "            testsample_prob += class_word_prob[j][ind]\n",
    "\n",
    "        testsample_prob = testsample_prob * class_prob[j]\n",
    "\n",
    "        if (testsample_prob > max):\n",
    "            max = testsample_prob\n",
    "            predict_label = j\n",
    "\n",
    "    if (labels[predict_label] == testlist[i][1]):\n",
    "        predict_accuracy += 1\n",
    "        confusion_table[predict_label,predict_label] = confusion_table[predict_label,predict_label] + 1\n",
    "    else:\n",
    "        confusion_table[labels.index(testlist[i][1]), predict_label] += 1\n",
    "   \n",
    "predict_accuracy /= len(testlist)\n",
    "\n",
    "print(predict_accuracy)\n",
    "print(confusion_table)\n",
    "    \n",
    "\n",
    "\n"
   ]
  },
  {
   "cell_type": "code",
   "execution_count": null,
   "metadata": {},
   "outputs": [],
   "source": []
  },
  {
   "cell_type": "code",
   "execution_count": null,
   "metadata": {},
   "outputs": [],
   "source": []
  }
 ],
 "metadata": {
  "kernelspec": {
   "display_name": "Python 3",
   "language": "python",
   "name": "python3"
  },
  "language_info": {
   "codemirror_mode": {
    "name": "ipython",
    "version": 3
   },
   "file_extension": ".py",
   "mimetype": "text/x-python",
   "name": "python",
   "nbconvert_exporter": "python",
   "pygments_lexer": "ipython3",
   "version": "3.7.1"
  }
 },
 "nbformat": 4,
 "nbformat_minor": 2
}
